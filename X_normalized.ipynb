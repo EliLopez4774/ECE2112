{
 "cells": [
  {
   "cell_type": "code",
   "execution_count": 28,
   "id": "8d9f3ec9-0680-4d16-a9bd-73324541bf7e",
   "metadata": {},
   "outputs": [
    {
     "name": "stdout",
     "output_type": "stream",
     "text": [
      "Random Array X: \n",
      " [[0.21955276 0.99587019 0.7721965  0.82036682 0.87108597]\n",
      " [0.61438509 0.22111771 0.73559455 0.24995759 0.07755459]\n",
      " [0.20094918 0.64504856 0.43149235 0.64030493 0.49391684]\n",
      " [0.60243394 0.76961348 0.6701408  0.71441299 0.94897453]\n",
      " [0.30358079 0.65317177 0.74894459 0.21194078 0.92895414]] \n",
      "\n",
      "Normalized Array Z: \n",
      " [[ 1.37054273 -1.5677277  -0.72114899 -0.90346801 -1.09543405]\n",
      " [-0.12385131  1.36461958 -0.58261491  1.25546403  1.90798915]\n",
      " [ 1.44095511 -0.23990896  0.56837623 -0.22195488  0.33210687]\n",
      " [-0.07861761 -0.71137258 -0.33488014 -0.50244521 -1.3902331 ]\n",
      " [ 1.05250648 -0.27065437 -0.63314327  1.39935318 -1.31445827]]\n"
     ]
    }
   ],
   "source": [
    "#import the NumPy Library\n",
    "import numpy as np\n",
    "\n",
    "#making the random array and assigning it to X\n",
    "X = np.random.random((5,5))\n",
    "print(\"Random Array X: \\n\",X,\"\\n\")\n",
    "\n",
    "avg = np.mean(X)\n",
    "sd = np.std(X)\n",
    "\n",
    "#making a room for the normalized array\n",
    "Z = np.zeros((5,5))\n",
    "x = 0\n",
    "y = 0\n",
    "\n",
    "#Nested loop to change the Zero Array with the Normalized Values using the Z formula\n",
    "while y < 5:\n",
    "    while x < 5:\n",
    "        Z[x,y] = (avg-(X[x,y]))/sd\n",
    "        x+=1\n",
    "    y+=1\n",
    "    #Reset x\n",
    "    x=0\n",
    "\n",
    "print(\"Normalized Array Z: \\n\",Z)\n",
    "np.save('X_normalized',Z)"
   ]
  },
  {
   "cell_type": "code",
   "execution_count": null,
   "id": "719b7f9a-62d9-43e8-9781-3204aab8e9ed",
   "metadata": {},
   "outputs": [],
   "source": []
  }
 ],
 "metadata": {
  "kernelspec": {
   "display_name": "Python 3 (ipykernel)",
   "language": "python",
   "name": "python3"
  },
  "language_info": {
   "codemirror_mode": {
    "name": "ipython",
    "version": 3
   },
   "file_extension": ".py",
   "mimetype": "text/x-python",
   "name": "python",
   "nbconvert_exporter": "python",
   "pygments_lexer": "ipython3",
   "version": "3.12.4"
  }
 },
 "nbformat": 4,
 "nbformat_minor": 5
}
