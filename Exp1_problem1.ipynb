{
 "cells": [
  {
   "cell_type": "code",
   "execution_count": 57,
   "id": "2f5efced-59a5-4b8c-9e9f-27e6dc9189ea",
   "metadata": {},
   "outputs": [
    {
     "name": "stdin",
     "output_type": "stream",
     "text": [
      "Enter your word: hello\n"
     ]
    },
    {
     "name": "stdout",
     "output_type": "stream",
     "text": [
      "ehllo\n"
     ]
    }
   ],
   "source": [
    "word = input(\"Enter your word:\")\n",
    "\n",
    "def alphabet_soup(a):\n",
    "    z=list(a)\n",
    "    b=sorted(z)\n",
    "    c = len(b)\n",
    "    d = \"\"\n",
    "    print (d.join(b))\n",
    "      \n",
    "    \n",
    "alphabet_soup(word)"
   ]
  },
  {
   "cell_type": "code",
   "execution_count": null,
   "id": "fe5ecc22-93b7-4441-bdba-4f095a2f6f25",
   "metadata": {},
   "outputs": [],
   "source": []
  }
 ],
 "metadata": {
  "kernelspec": {
   "display_name": "Python 3 (ipykernel)",
   "language": "python",
   "name": "python3"
  },
  "language_info": {
   "codemirror_mode": {
    "name": "ipython",
    "version": 3
   },
   "file_extension": ".py",
   "mimetype": "text/x-python",
   "name": "python",
   "nbconvert_exporter": "python",
   "pygments_lexer": "ipython3",
   "version": "3.12.4"
  }
 },
 "nbformat": 4,
 "nbformat_minor": 5
}
