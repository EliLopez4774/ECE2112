{
 "cells": [
  {
   "cell_type": "code",
   "execution_count": 19,
   "id": "9a545dd6-6d54-42ba-aad3-770154c39171",
   "metadata": {},
   "outputs": [
    {
     "name": "stdout",
     "output_type": "stream",
     "text": [
      "first:  1 \tmiddle: [2, 3, 4, 5] \tlast:  6\n"
     ]
    }
   ],
   "source": [
    "writeyourcodehere = [1,2,3,4,5,6]\n",
    "first = writeyourcodehere[0]\n",
    "last = writeyourcodehere[-1]\n",
    "writeyourcodehere.pop(0)\n",
    "writeyourcodehere.pop(-1)\n",
    "middle = writeyourcodehere\n",
    "\n",
    "print (\"first: \",first,\"\\tmiddle:\",middle,\"\\tlast: \",last)"
   ]
  }
 ],
 "metadata": {
  "kernelspec": {
   "display_name": "Python 3 (ipykernel)",
   "language": "python",
   "name": "python3"
  },
  "language_info": {
   "codemirror_mode": {
    "name": "ipython",
    "version": 3
   },
   "file_extension": ".py",
   "mimetype": "text/x-python",
   "name": "python",
   "nbconvert_exporter": "python",
   "pygments_lexer": "ipython3",
   "version": "3.12.4"
  }
 },
 "nbformat": 4,
 "nbformat_minor": 5
}
