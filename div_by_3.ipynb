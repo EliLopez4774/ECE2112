{
 "cells": [
  {
   "cell_type": "code",
   "execution_count": 4,
   "id": "f82ec95a-ae02-4a3c-9042-bdba6756f2ce",
   "metadata": {},
   "outputs": [
    {
     "name": "stdout",
     "output_type": "stream",
     "text": [
      "[   9   36   81  144  225  324  441  576  729  900 1089 1296 1521 1764\n",
      " 2025 2304 2601 2916 3249 3600 3969 4356 4761 5184 5625 6084 6561 7056\n",
      " 7569 8100 8649 9216 9801    0]\n"
     ]
    }
   ],
   "source": [
    "import numpy as np\n",
    "A = np.zeros((10,10))\n",
    "\n",
    "ctr=1\n",
    "x=0\n",
    "y=0\n",
    "\n",
    "while y < 10:\n",
    "    while x < 10:\n",
    "        A[x,y] = ctr*ctr\n",
    "        ctr+=1\n",
    "        x+=1\n",
    "    y+=1\n",
    "    x=0\n",
    "\n",
    "x=0\n",
    "y=0\n",
    "ctr = 0\n",
    "div3=np.array([0])\n",
    "\n",
    "while y < 10:\n",
    "    while x < 10:\n",
    "        if (A[x,y]%3) == 0:\n",
    "            div3[ctr] = A[x,y]\n",
    "            ctr+=1\n",
    "            size = 1+ctr\n",
    "            div3.resize((size))\n",
    "        x+=1\n",
    "    y+=1\n",
    "    x=0\n",
    "    \n",
    "print (div3)\n",
    "np.save('div_by_3', div3)"
   ]
  },
  {
   "cell_type": "code",
   "execution_count": null,
   "id": "0b57d0d6-cef8-434f-8ea1-1c8a1dd98a91",
   "metadata": {},
   "outputs": [],
   "source": []
  }
 ],
 "metadata": {
  "kernelspec": {
   "display_name": "Python 3 (ipykernel)",
   "language": "python",
   "name": "python3"
  },
  "language_info": {
   "codemirror_mode": {
    "name": "ipython",
    "version": 3
   },
   "file_extension": ".py",
   "mimetype": "text/x-python",
   "name": "python",
   "nbconvert_exporter": "python",
   "pygments_lexer": "ipython3",
   "version": "3.12.4"
  }
 },
 "nbformat": 4,
 "nbformat_minor": 5
}
