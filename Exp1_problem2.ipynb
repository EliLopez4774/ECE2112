{
 "cells": [
  {
   "cell_type": "code",
   "execution_count": 3,
   "id": "52d8a277-228e-4929-a81c-b118d2684744",
   "metadata": {},
   "outputs": [
    {
     "name": "stderr",
     "output_type": "stream",
     "text": [
      "<>:1: SyntaxWarning: invalid escape sequence '\\G'\n",
      "<>:1: SyntaxWarning: invalid escape sequence '\\G'\n",
      "C:\\Users\\sirda\\AppData\\Local\\Temp\\ipykernel_9808\\1988802065.py:1: SyntaxWarning: invalid escape sequence '\\G'\n",
      "  cn =  input(\"Please enter the  emote code:\\nSmile = :)\\Grin = :D\\nSad = :((\\nMad=>:(\")\n"
     ]
    },
    {
     "name": "stdin",
     "output_type": "stream",
     "text": [
      "Please enter the  emote code:\n",
      "Smile = :)\\Grin = :D\n",
      "Sad = :((\n",
      "Mad=>:( Smile\n"
     ]
    }
   ],
   "source": [
    "cn =  input(\"Please enter the  emote code:\\nSmile = :)\\Grin = :D\\nSad = :((\\nMad=>:(\\n\")\n",
    "\n",
    "def emotify(code):\n",
    "    if code==\"Smile\":\n",
    "        print(\":)\")\n",
    "    elif code==\"Grin\":\n",
    "        print(\":D\")\n",
    "    elif code==\"Sad\":\n",
    "        print(\":((\")\n",
    "    elif code==\"Mad\":\n",
    "        print(\">:(\")"
   ]
  },
  {
   "cell_type": "code",
   "execution_count": null,
   "id": "051a6cc0-9417-4e52-a649-9951ee750fcf",
   "metadata": {},
   "outputs": [],
   "source": []
  }
 ],
 "metadata": {
  "kernelspec": {
   "display_name": "Python 3 (ipykernel)",
   "language": "python",
   "name": "python3"
  },
  "language_info": {
   "codemirror_mode": {
    "name": "ipython",
    "version": 3
   },
   "file_extension": ".py",
   "mimetype": "text/x-python",
   "name": "python",
   "nbconvert_exporter": "python",
   "pygments_lexer": "ipython3",
   "version": "3.12.4"
  }
 },
 "nbformat": 4,
 "nbformat_minor": 5
}
